{
  "nbformat": 4,
  "nbformat_minor": 0,
  "metadata": {
    "colab": {
      "provenance": [],
      "collapsed_sections": [
        "GEWN7RD74MM_",
        "89j5j_FY4ewA",
        "Wq6HygpNjl97",
        "C7osYVocouQw"
      ]
    },
    "kernelspec": {
      "name": "python3",
      "display_name": "Python 3"
    },
    "language_info": {
      "name": "python"
    }
  },
  "cells": [
    {
      "cell_type": "markdown",
      "source": [
        "# PyTorch Basics"
      ],
      "metadata": {
        "id": "ymqLo1841gTc"
      }
    },
    {
      "cell_type": "markdown",
      "source": [
        "# Setting up your environment\n"
      ],
      "metadata": {
        "id": "GEWN7RD74MM_"
      }
    },
    {
      "cell_type": "markdown",
      "source": [
        "## Google Colab\n",
        "PyTorch is already installed and ready to be used on Google Colab. <br>\n",
        "By default all Colab notebooks will use the CPU for computation, unless switched to a GPU Runtime.<br> For this tutorial you will only use the CPU Runtime"
      ],
      "metadata": {
        "id": "_-edmzK04T3M"
      }
    },
    {
      "cell_type": "markdown",
      "source": [
        "## Local Runtime\n",
        "Alternatively, if you can run this on your local machine"
      ],
      "metadata": {
        "id": "J_AgvnVDiLk4"
      }
    },
    {
      "cell_type": "markdown",
      "source": [
        "# Getting started with PyTorch\n",
        "We will start off with a simple problem statement, and how we would go about solving it with PyTorch\n",
        "## Problem Statement-\n",
        "Classification of the MNIST Hand-Written Digits Dataset.\n",
        "<br> The dataset consists of images of hand-written digits along with their respective numeric labels.\n",
        "## Description-\n",
        "This is essentially the 'Hello World' program for Deep Learning with PyTorch, it will give you an overview of what is happening before you dive into more detailed topics.\n",
        "<br> The task at hand is to classify images of hand-written digits to their respective value. <br>\n",
        "![image.png](data:image/png;base64,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)"
      ],
      "metadata": {
        "id": "89j5j_FY4ewA"
      }
    },
    {
      "cell_type": "markdown",
      "source": [
        "# Imports"
      ],
      "metadata": {
        "id": "Wq6HygpNjl97"
      }
    },
    {
      "cell_type": "code",
      "source": [
        "import torch                     # main PyTorch import"
      ],
      "metadata": {
        "id": "xQItMpKy1mKi"
      },
      "execution_count": null,
      "outputs": []
    },
    {
      "cell_type": "markdown",
      "source": [
        "# Downloading, Visualising and Loading the MNIST Dataset\n",
        "For this tutorial, you will be using the MNIST Dataset, which is available as part of the 'torchvision' package."
      ],
      "metadata": {
        "id": "C7osYVocouQw"
      }
    },
    {
      "cell_type": "code",
      "source": [
        "from torchvision import datasets\n",
        "from torchvision.transforms import ToTensor\n",
        "\n",
        "train_data = datasets.MNIST(root=\".\", train=True, download=True, transform=ToTensor())\n",
        "\n",
        "test_data = datasets.MNIST(root=\".\", train=False, download=True, transform=ToTensor())"
      ],
      "metadata": {
        "id": "Yu4gwLNAjne0"
      },
      "execution_count": null,
      "outputs": []
    },
    {
      "cell_type": "markdown",
      "source": [
        "#### 1) What is ```torchvision``` and ```datasets```?\n",
        "TorchVision is an accompanying library that consists of commonly used datasets, models and image transformation techniques used in computer Vision.\n",
        "<br>\n",
        "```datasets``` allows us to load and use pre-included datasets like MNIST.\n",
        "#### 2) What is ```torchvision.transforms``` and ```ToTensor```?\n",
        "Data does not always come in its final processed form that is required for training machine learning algorithms. We use transforms to perform some manipulation of the data and make it suitable for training.\n",
        "\n",
        "All TorchVision datasets have two parameters ```transform``` to modify the features and ```target_transform``` to modify the labels.\n",
        "\n",
        "```ToTensor``` is a type of transform that will convert the image data into tensor data.\n",
        "\n",
        "#### 3) What are ```root```, ```train```, ```download``` and ```transform``` parameters?\n",
        "```root```- specifies the root directory <br>\n",
        "```train```- specifes whether you are loading the training or testing portion of the dataset <br>\n",
        "```download```- specifies whether the dataset is to be downloaded from the internet or use the locally downloaded copy <br>\n",
        "```transform```- specifies which transformation is to be applied to the dataset\n",
        "\n",
        "### Check your loaded dataset-\n"
      ],
      "metadata": {
        "id": "UxhzkCKlpWPP"
      }
    },
    {
      "cell_type": "code",
      "source": [
        "print(train_data[0])"
      ],
      "metadata": {
        "colab": {
          "base_uri": "https://localhost:8080/"
        },
        "id": "NY5mqG6FpzSK",
        "outputId": "f6cc3fa3-4cef-4368-cad9-82cdce65fdc1"
      },
      "execution_count": null,
      "outputs": [
        {
          "output_type": "stream",
          "name": "stdout",
          "text": [
            "(tensor([[[0.0000, 0.0000, 0.0000, 0.0000, 0.0000, 0.0000, 0.0000, 0.0000,\n",
            "          0.0000, 0.0000, 0.0000, 0.0000, 0.0000, 0.0000, 0.0000, 0.0000,\n",
            "          0.0000, 0.0000, 0.0000, 0.0000, 0.0000, 0.0000, 0.0000, 0.0000,\n",
            "          0.0000, 0.0000, 0.0000, 0.0000],\n",
            "         [0.0000, 0.0000, 0.0000, 0.0000, 0.0000, 0.0000, 0.0000, 0.0000,\n",
            "          0.0000, 0.0000, 0.0000, 0.0000, 0.0000, 0.0000, 0.0000, 0.0000,\n",
            "          0.0000, 0.0000, 0.0000, 0.0000, 0.0000, 0.0000, 0.0000, 0.0000,\n",
            "          0.0000, 0.0000, 0.0000, 0.0000],\n",
            "         [0.0000, 0.0000, 0.0000, 0.0000, 0.0000, 0.0000, 0.0000, 0.0000,\n",
            "          0.0000, 0.0000, 0.0000, 0.0000, 0.0000, 0.0000, 0.0000, 0.0000,\n",
            "          0.0000, 0.0000, 0.0000, 0.0000, 0.0000, 0.0000, 0.0000, 0.0000,\n",
            "          0.0000, 0.0000, 0.0000, 0.0000],\n",
            "         [0.0000, 0.0000, 0.0000, 0.0000, 0.0000, 0.0000, 0.0000, 0.0000,\n",
            "          0.0000, 0.0000, 0.0000, 0.0000, 0.0000, 0.0000, 0.0000, 0.0000,\n",
            "          0.0000, 0.0000, 0.0000, 0.0000, 0.0000, 0.0000, 0.0000, 0.0000,\n",
            "          0.0000, 0.0000, 0.0000, 0.0000],\n",
            "         [0.0000, 0.0000, 0.0000, 0.0000, 0.0000, 0.0000, 0.0000, 0.0000,\n",
            "          0.0000, 0.0000, 0.0000, 0.0000, 0.0000, 0.0000, 0.0000, 0.0000,\n",
            "          0.0000, 0.0000, 0.0000, 0.0000, 0.0000, 0.0000, 0.0000, 0.0000,\n",
            "          0.0000, 0.0000, 0.0000, 0.0000],\n",
            "         [0.0000, 0.0000, 0.0000, 0.0000, 0.0000, 0.0000, 0.0000, 0.0000,\n",
            "          0.0000, 0.0000, 0.0000, 0.0000, 0.0118, 0.0706, 0.0706, 0.0706,\n",
            "          0.4941, 0.5333, 0.6863, 0.1020, 0.6510, 1.0000, 0.9686, 0.4980,\n",
            "          0.0000, 0.0000, 0.0000, 0.0000],\n",
            "         [0.0000, 0.0000, 0.0000, 0.0000, 0.0000, 0.0000, 0.0000, 0.0000,\n",
            "          0.1176, 0.1412, 0.3686, 0.6039, 0.6667, 0.9922, 0.9922, 0.9922,\n",
            "          0.9922, 0.9922, 0.8824, 0.6745, 0.9922, 0.9490, 0.7647, 0.2510,\n",
            "          0.0000, 0.0000, 0.0000, 0.0000],\n",
            "         [0.0000, 0.0000, 0.0000, 0.0000, 0.0000, 0.0000, 0.0000, 0.1922,\n",
            "          0.9333, 0.9922, 0.9922, 0.9922, 0.9922, 0.9922, 0.9922, 0.9922,\n",
            "          0.9922, 0.9843, 0.3647, 0.3216, 0.3216, 0.2196, 0.1529, 0.0000,\n",
            "          0.0000, 0.0000, 0.0000, 0.0000],\n",
            "         [0.0000, 0.0000, 0.0000, 0.0000, 0.0000, 0.0000, 0.0000, 0.0706,\n",
            "          0.8588, 0.9922, 0.9922, 0.9922, 0.9922, 0.9922, 0.7765, 0.7137,\n",
            "          0.9686, 0.9451, 0.0000, 0.0000, 0.0000, 0.0000, 0.0000, 0.0000,\n",
            "          0.0000, 0.0000, 0.0000, 0.0000],\n",
            "         [0.0000, 0.0000, 0.0000, 0.0000, 0.0000, 0.0000, 0.0000, 0.0000,\n",
            "          0.3137, 0.6118, 0.4196, 0.9922, 0.9922, 0.8039, 0.0431, 0.0000,\n",
            "          0.1686, 0.6039, 0.0000, 0.0000, 0.0000, 0.0000, 0.0000, 0.0000,\n",
            "          0.0000, 0.0000, 0.0000, 0.0000],\n",
            "         [0.0000, 0.0000, 0.0000, 0.0000, 0.0000, 0.0000, 0.0000, 0.0000,\n",
            "          0.0000, 0.0549, 0.0039, 0.6039, 0.9922, 0.3529, 0.0000, 0.0000,\n",
            "          0.0000, 0.0000, 0.0000, 0.0000, 0.0000, 0.0000, 0.0000, 0.0000,\n",
            "          0.0000, 0.0000, 0.0000, 0.0000],\n",
            "         [0.0000, 0.0000, 0.0000, 0.0000, 0.0000, 0.0000, 0.0000, 0.0000,\n",
            "          0.0000, 0.0000, 0.0000, 0.5451, 0.9922, 0.7451, 0.0078, 0.0000,\n",
            "          0.0000, 0.0000, 0.0000, 0.0000, 0.0000, 0.0000, 0.0000, 0.0000,\n",
            "          0.0000, 0.0000, 0.0000, 0.0000],\n",
            "         [0.0000, 0.0000, 0.0000, 0.0000, 0.0000, 0.0000, 0.0000, 0.0000,\n",
            "          0.0000, 0.0000, 0.0000, 0.0431, 0.7451, 0.9922, 0.2745, 0.0000,\n",
            "          0.0000, 0.0000, 0.0000, 0.0000, 0.0000, 0.0000, 0.0000, 0.0000,\n",
            "          0.0000, 0.0000, 0.0000, 0.0000],\n",
            "         [0.0000, 0.0000, 0.0000, 0.0000, 0.0000, 0.0000, 0.0000, 0.0000,\n",
            "          0.0000, 0.0000, 0.0000, 0.0000, 0.1373, 0.9451, 0.8824, 0.6275,\n",
            "          0.4235, 0.0039, 0.0000, 0.0000, 0.0000, 0.0000, 0.0000, 0.0000,\n",
            "          0.0000, 0.0000, 0.0000, 0.0000],\n",
            "         [0.0000, 0.0000, 0.0000, 0.0000, 0.0000, 0.0000, 0.0000, 0.0000,\n",
            "          0.0000, 0.0000, 0.0000, 0.0000, 0.0000, 0.3176, 0.9412, 0.9922,\n",
            "          0.9922, 0.4667, 0.0980, 0.0000, 0.0000, 0.0000, 0.0000, 0.0000,\n",
            "          0.0000, 0.0000, 0.0000, 0.0000],\n",
            "         [0.0000, 0.0000, 0.0000, 0.0000, 0.0000, 0.0000, 0.0000, 0.0000,\n",
            "          0.0000, 0.0000, 0.0000, 0.0000, 0.0000, 0.0000, 0.1765, 0.7294,\n",
            "          0.9922, 0.9922, 0.5882, 0.1059, 0.0000, 0.0000, 0.0000, 0.0000,\n",
            "          0.0000, 0.0000, 0.0000, 0.0000],\n",
            "         [0.0000, 0.0000, 0.0000, 0.0000, 0.0000, 0.0000, 0.0000, 0.0000,\n",
            "          0.0000, 0.0000, 0.0000, 0.0000, 0.0000, 0.0000, 0.0000, 0.0627,\n",
            "          0.3647, 0.9882, 0.9922, 0.7333, 0.0000, 0.0000, 0.0000, 0.0000,\n",
            "          0.0000, 0.0000, 0.0000, 0.0000],\n",
            "         [0.0000, 0.0000, 0.0000, 0.0000, 0.0000, 0.0000, 0.0000, 0.0000,\n",
            "          0.0000, 0.0000, 0.0000, 0.0000, 0.0000, 0.0000, 0.0000, 0.0000,\n",
            "          0.0000, 0.9765, 0.9922, 0.9765, 0.2510, 0.0000, 0.0000, 0.0000,\n",
            "          0.0000, 0.0000, 0.0000, 0.0000],\n",
            "         [0.0000, 0.0000, 0.0000, 0.0000, 0.0000, 0.0000, 0.0000, 0.0000,\n",
            "          0.0000, 0.0000, 0.0000, 0.0000, 0.0000, 0.0000, 0.1804, 0.5098,\n",
            "          0.7176, 0.9922, 0.9922, 0.8118, 0.0078, 0.0000, 0.0000, 0.0000,\n",
            "          0.0000, 0.0000, 0.0000, 0.0000],\n",
            "         [0.0000, 0.0000, 0.0000, 0.0000, 0.0000, 0.0000, 0.0000, 0.0000,\n",
            "          0.0000, 0.0000, 0.0000, 0.0000, 0.1529, 0.5804, 0.8980, 0.9922,\n",
            "          0.9922, 0.9922, 0.9804, 0.7137, 0.0000, 0.0000, 0.0000, 0.0000,\n",
            "          0.0000, 0.0000, 0.0000, 0.0000],\n",
            "         [0.0000, 0.0000, 0.0000, 0.0000, 0.0000, 0.0000, 0.0000, 0.0000,\n",
            "          0.0000, 0.0000, 0.0941, 0.4471, 0.8667, 0.9922, 0.9922, 0.9922,\n",
            "          0.9922, 0.7882, 0.3059, 0.0000, 0.0000, 0.0000, 0.0000, 0.0000,\n",
            "          0.0000, 0.0000, 0.0000, 0.0000],\n",
            "         [0.0000, 0.0000, 0.0000, 0.0000, 0.0000, 0.0000, 0.0000, 0.0000,\n",
            "          0.0902, 0.2588, 0.8353, 0.9922, 0.9922, 0.9922, 0.9922, 0.7765,\n",
            "          0.3176, 0.0078, 0.0000, 0.0000, 0.0000, 0.0000, 0.0000, 0.0000,\n",
            "          0.0000, 0.0000, 0.0000, 0.0000],\n",
            "         [0.0000, 0.0000, 0.0000, 0.0000, 0.0000, 0.0000, 0.0706, 0.6706,\n",
            "          0.8588, 0.9922, 0.9922, 0.9922, 0.9922, 0.7647, 0.3137, 0.0353,\n",
            "          0.0000, 0.0000, 0.0000, 0.0000, 0.0000, 0.0000, 0.0000, 0.0000,\n",
            "          0.0000, 0.0000, 0.0000, 0.0000],\n",
            "         [0.0000, 0.0000, 0.0000, 0.0000, 0.2157, 0.6745, 0.8863, 0.9922,\n",
            "          0.9922, 0.9922, 0.9922, 0.9569, 0.5216, 0.0431, 0.0000, 0.0000,\n",
            "          0.0000, 0.0000, 0.0000, 0.0000, 0.0000, 0.0000, 0.0000, 0.0000,\n",
            "          0.0000, 0.0000, 0.0000, 0.0000],\n",
            "         [0.0000, 0.0000, 0.0000, 0.0000, 0.5333, 0.9922, 0.9922, 0.9922,\n",
            "          0.8314, 0.5294, 0.5176, 0.0627, 0.0000, 0.0000, 0.0000, 0.0000,\n",
            "          0.0000, 0.0000, 0.0000, 0.0000, 0.0000, 0.0000, 0.0000, 0.0000,\n",
            "          0.0000, 0.0000, 0.0000, 0.0000],\n",
            "         [0.0000, 0.0000, 0.0000, 0.0000, 0.0000, 0.0000, 0.0000, 0.0000,\n",
            "          0.0000, 0.0000, 0.0000, 0.0000, 0.0000, 0.0000, 0.0000, 0.0000,\n",
            "          0.0000, 0.0000, 0.0000, 0.0000, 0.0000, 0.0000, 0.0000, 0.0000,\n",
            "          0.0000, 0.0000, 0.0000, 0.0000],\n",
            "         [0.0000, 0.0000, 0.0000, 0.0000, 0.0000, 0.0000, 0.0000, 0.0000,\n",
            "          0.0000, 0.0000, 0.0000, 0.0000, 0.0000, 0.0000, 0.0000, 0.0000,\n",
            "          0.0000, 0.0000, 0.0000, 0.0000, 0.0000, 0.0000, 0.0000, 0.0000,\n",
            "          0.0000, 0.0000, 0.0000, 0.0000],\n",
            "         [0.0000, 0.0000, 0.0000, 0.0000, 0.0000, 0.0000, 0.0000, 0.0000,\n",
            "          0.0000, 0.0000, 0.0000, 0.0000, 0.0000, 0.0000, 0.0000, 0.0000,\n",
            "          0.0000, 0.0000, 0.0000, 0.0000, 0.0000, 0.0000, 0.0000, 0.0000,\n",
            "          0.0000, 0.0000, 0.0000, 0.0000]]]), 5)\n"
          ]
        }
      ]
    },
    {
      "cell_type": "markdown",
      "source": [
        "This is the first sample of our Training Dataset. It should be a large tensor with seemingly meaningless numbers, but is actually the image data in tensor form.\n",
        "\n",
        "## Visualising your dataset-\n",
        "To view your dataset which is currently in tensor form, we can use the library ```matplotlib``` to read the tensor data and plot back into images.\n"
      ],
      "metadata": {
        "id": "jL-BzLHxs7Q5"
      }
    },
    {
      "cell_type": "code",
      "source": [
        "import matplotlib.pyplot as plt\n",
        "singleFigure = plt.figure(figsize=(2,2))\n",
        "img, label = train_data[0]\n",
        "plt.imshow(img.squeeze(), cmap = \"gray\")\n",
        "plt.show"
      ],
      "metadata": {
        "colab": {
          "base_uri": "https://localhost:8080/"
        },
        "id": "bbsfOvIYta9u",
        "outputId": "8244d65b-2760-4072-d7b9-10c3cca7db26"
      },
      "execution_count": null,
      "outputs": [
        {
          "output_type": "execute_result",
          "data": {
            "text/plain": [
              "<function matplotlib.pyplot.show(close=None, block=None)>"
            ]
          },
          "metadata": {},
          "execution_count": 8
        },
        {
          "output_type": "display_data",
          "data": {
            "text/plain": [
              "<Figure size 200x200 with 1 Axes>"
            ],
            "image/png": "[encoded data removed]"
          },
          "metadata": {}
        }
      ]
    },
    {
      "cell_type": "markdown",
      "source": [
        "Visualising Multiple"
      ],
      "metadata": {
        "id": "RhpcCc6xvs_s"
      }
    },
    {
      "cell_type": "code",
      "source": [
        "figure = plt.figure(figsize=(8, 8))\n",
        "cols, rows = 6, 6\n",
        "\n",
        "for i in range(1, cols * rows + 1):\n",
        "    sample_idx = torch.randint(len(train_data), size=(1,)).item()\n",
        "    img, label = train_data[sample_idx]\n",
        "    figure.add_subplot(rows, cols, i)\n",
        "    plt.axis(\"off\")\n",
        "    plt.imshow(img.squeeze(), cmap=\"gray\")\n",
        "plt.show()"
      ],
      "metadata": {
        "colab": {
          "base_uri": "https://localhost:8080/"
        },
        "id": "WSWuI5q7vuwW",
        "outputId": "299dce76-249b-4d5d-efc3-71c8656c73b7"
      },
      "execution_count": null,
      "outputs": [
        {
          "output_type": "display_data",
          "data": {
            "text/plain": [
              "<Figure size 800x800 with 36 Axes>"
            ],
            "image/png": "[encoded data removed]"
          },
          "metadata": {}
        }
      ]
    },
    {
      "cell_type": "markdown",
      "source": [
        "## Viewing the labels of your Dataset"
      ],
      "metadata": {
        "id": "fLI576eFwLp0"
      }
    },
    {
      "cell_type": "code",
      "source": [
        "train_data.classes"
      ],
      "metadata": {
        "colab": {
          "base_uri": "https://localhost:8080/"
        },
        "id": "Ha8kelGRwRxp",
        "outputId": "42f626f6-577d-43c0-9cbd-99a026de2c28"
      },
      "execution_count": null,
      "outputs": [
        {
          "output_type": "execute_result",
          "data": {
            "text/plain": [
              "['0 - zero',\n",
              " '1 - one',\n",
              " '2 - two',\n",
              " '3 - three',\n",
              " '4 - four',\n",
              " '5 - five',\n",
              " '6 - six',\n",
              " '7 - seven',\n",
              " '8 - eight',\n",
              " '9 - nine']"
            ]
          },
          "metadata": {},
          "execution_count": 10
        }
      ]
    },
    {
      "cell_type": "markdown",
      "source": [
        "## Number of Samples"
      ],
      "metadata": {
        "id": "CwG3XUfbc_OC"
      }
    },
    {
      "cell_type": "code",
      "source": [
        "print(\"Number of training instances: \",len(train_data))\n",
        "print(\"Number of testing samples: \", len(test_data))"
      ],
      "metadata": {
        "colab": {
          "base_uri": "https://localhost:8080/"
        },
        "id": "Jk65PHozcyLY",
        "outputId": "64e0d068-04d4-4f7a-cf10-f60d97627a66"
      },
      "execution_count": null,
      "outputs": [
        {
          "output_type": "stream",
          "name": "stdout",
          "text": [
            "Number of training instances:  60000\n",
            "Number of testing samples:  10000\n"
          ]
        }
      ]
    },
    {
      "cell_type": "markdown",
      "source": [
        "## Setup DataLoader\n",
        "while ```Datasets``` retrieves our dataset’s features and labels one sample at a time. While training a model, we typically want to pass samples in “minibatches”, reshuffle the data at every epoch to reduce model overfitting, and use Python’s multiprocessing to speed up data retrieval.\n",
        "\n",
        "```DataLoader``` is an iterable object that allows us to perform the above mentioned task."
      ],
      "metadata": {
        "id": "Rqm6d2PzwaI9"
      }
    },
    {
      "cell_type": "code",
      "source": [
        "from torch.utils.data import DataLoader\n",
        "\n",
        "loaded_train = DataLoader(train_data, batch_size=100, shuffle=True)\n",
        "loaded_test = DataLoader(test_data, batch_size=100, shuffle=True)"
      ],
      "metadata": {
        "id": "PkobvQtLwi31"
      },
      "execution_count": null,
      "outputs": []
    },
    {
      "cell_type": "markdown",
      "source": [
        "Additionally, you can club these two into a single dictionary for your convenience-"
      ],
      "metadata": {
        "id": "6ZNOo5S18Dc7"
      }
    },
    {
      "cell_type": "code",
      "source": [
        "loaders = {\n",
        "    'train' : loaded_train,\n",
        "    'test': loaded_test}\n",
        "loaders"
      ],
      "metadata": {
        "colab": {
          "base_uri": "https://localhost:8080/"
        },
        "id": "xXHTgwMy8KV1",
        "outputId": "cdc4b484-900f-40db-b896-e4bfafb68ed2"
      },
      "execution_count": null,
      "outputs": [
        {
          "output_type": "execute_result",
          "data": {
            "text/plain": [
              "{'train': <torch.utils.data.dataloader.DataLoader at 0x7cc8241af4f0>,\n",
              " 'test': <torch.utils.data.dataloader.DataLoader at 0x7cc8241af850>}"
            ]
          },
          "metadata": {},
          "execution_count": 13
        }
      ]
    },
    {
      "cell_type": "code",
      "source": [
        "print(\"Number of training batches: \",len(loaders['train']))\n",
        "print(\"Number of testing batches: \",len(loaders['test']))"
      ],
      "metadata": {
        "colab": {
          "base_uri": "https://localhost:8080/"
        },
        "id": "SN0ntwr0G71w",
        "outputId": "cd732bc6-1a92-45ca-f6d3-d4e257eee181"
      },
      "execution_count": null,
      "outputs": [
        {
          "output_type": "stream",
          "name": "stdout",
          "text": [
            "Number of training batches:  600\n",
            "Number of testing batches:  100\n"
          ]
        }
      ]
    },
    {
      "cell_type": "markdown",
      "source": [
        "# Building the Neural Network\n",
        "With the Dataset now ready, we can start working on the Neural Network itself.\n",
        "<br>\n",
        "You will be building the following network- <br>\n",
        "![image.png](data:image/png;base64,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)\n",
        "<br>\n",
        "There are a mulitude of ways PyTorch allows you to build out your network, for this example you will be building the network using a mixture of different approaches, and usually considered best practice.\n",
        "\n",
        "### 1) How to start off building the network?\n",
        "You must start off building your network by inheriting the main PyTorch ```nn.module``` class.\n",
        "This is the PyTorch base class meant to encapsulate behaviours specific to PyTorch Models and their components.\n",
        "\n",
        "### 2) What is the ```__init__``` function?\n",
        "The `__init__` function is where you specify the layers of your network\n",
        "\n",
        "### 3) What is the ```forward``` function?\n",
        "The `forward` function is where you specify how the input to the network must propogate through the layers of the network. The output of the model is also mapped here as the return statement.\n",
        "The data typically is propogated through the network by overwriting the variable with the new updated values as they pass through the layers."
      ],
      "metadata": {
        "id": "K9Mp6oM3xkyX"
      }
    },
    {
      "cell_type": "code",
      "source": [
        "from torch import nn\n",
        "import torch.nn.functional as F\n",
        "\n",
        "class MNIST_CNN(nn.Module):\n",
        "  def __init__(self):\n",
        "    super(MNIST_CNN, self).__init__()\n",
        "    self.conv1 = nn.Sequential(\n",
        "        nn.Conv2d(in_channels = 1,\n",
        "                  out_channels = 10,\n",
        "                  kernel_size = 5,\n",
        "                  stride = 1,\n",
        "                  padding = 0),\n",
        "        nn.ReLU(),\n",
        "        nn.MaxPool2d(kernel_size = 2)\n",
        "        )\n",
        "\n",
        "    self.conv2 = nn.Sequential(\n",
        "        nn.Conv2d(10,20,5,1,0),\n",
        "        nn.ReLU(),\n",
        "        nn.MaxPool2d(2)\n",
        "        )\n",
        "\n",
        "    self.fc1 = nn.Linear(20*4*4, 64)\n",
        "    self.fc2 = nn.Linear(64,10)\n",
        "    self.softmax = nn.LogSoftmax()\n",
        "\n",
        "  def forward(self, x):\n",
        "    in_size = x.size(0)\n",
        "    x = self.conv1(x)\n",
        "    x = self.conv2(x)\n",
        "    x = x.view(in_size, -1)   # flatten the tensor\n",
        "    x = self.fc1(x)\n",
        "    x = self.fc2(x)\n",
        "    x = self.softmax(x)\n",
        "    return x"
      ],
      "metadata": {
        "id": "mWhF2vO9xmsc"
      },
      "execution_count": null,
      "outputs": []
    },
    {
      "cell_type": "markdown",
      "source": [
        "`view` function - is used to flatten the tensors\n",
        "### Why specifically these layers and activations are chosen?\n",
        "The design of the network is entirely dependant on the task at hand, and this convolution neural network with the appropriate activations allows us to accurately predict for the task at hand.\n"
      ],
      "metadata": {
        "id": "-pill73WiPZZ"
      }
    },
    {
      "cell_type": "markdown",
      "source": [
        "## Initialise your Model"
      ],
      "metadata": {
        "id": "u2Knqn_w5RNL"
      }
    },
    {
      "cell_type": "code",
      "source": [
        "mnist_cnn = MNIST_CNN()\n",
        "print(mnist_cnn)"
      ],
      "metadata": {
        "colab": {
          "base_uri": "https://localhost:8080/"
        },
        "id": "tTReJzyx5H6M",
        "outputId": "4ca19b62-4675-4922-a038-976fc039a0dc"
      },
      "execution_count": null,
      "outputs": [
        {
          "output_type": "stream",
          "name": "stdout",
          "text": [
            "MNIST_CNN(\n",
            "  (conv1): Sequential(\n",
            "    (0): Conv2d(1, 10, kernel_size=(5, 5), stride=(1, 1))\n",
            "    (1): ReLU()\n",
            "    (2): MaxPool2d(kernel_size=2, stride=2, padding=0, dilation=1, ceil_mode=False)\n",
            "  )\n",
            "  (conv2): Sequential(\n",
            "    (0): Conv2d(10, 20, kernel_size=(5, 5), stride=(1, 1))\n",
            "    (1): ReLU()\n",
            "    (2): MaxPool2d(kernel_size=2, stride=2, padding=0, dilation=1, ceil_mode=False)\n",
            "  )\n",
            "  (fc1): Linear(in_features=320, out_features=64, bias=True)\n",
            "  (fc2): Linear(in_features=64, out_features=10, bias=True)\n",
            "  (softmax): LogSoftmax(dim=None)\n",
            ")\n"
          ]
        }
      ]
    },
    {
      "cell_type": "markdown",
      "source": [
        "## Define a loss function\n",
        "since the task at hand is to predict a single value from multiple possible classes, the `cross entropy loss function` in being used."
      ],
      "metadata": {
        "id": "YZRAwgDm68Ft"
      }
    },
    {
      "cell_type": "code",
      "source": [
        "loss_func = nn.CrossEntropyLoss()\n",
        "loss_func"
      ],
      "metadata": {
        "colab": {
          "base_uri": "https://localhost:8080/"
        },
        "id": "K_6GVr7V6-V6",
        "outputId": "7c4da843-cb74-4208-eb4e-ed9b123e711f"
      },
      "execution_count": null,
      "outputs": [
        {
          "output_type": "execute_result",
          "data": {
            "text/plain": [
              "CrossEntropyLoss()"
            ]
          },
          "metadata": {},
          "execution_count": 17
        }
      ]
    },
    {
      "cell_type": "markdown",
      "source": [
        "## Define an Optimization Function\n",
        "Define the required optimiser along with the desired learning rate."
      ],
      "metadata": {
        "id": "RoeOvlZs7Bwa"
      }
    },
    {
      "cell_type": "code",
      "source": [
        "from torch import optim\n",
        "optimizer = optim.Adam(mnist_cnn.parameters(), lr = 0.01)\n",
        "optimizer"
      ],
      "metadata": {
        "colab": {
          "base_uri": "https://localhost:8080/"
        },
        "id": "7qj6ks-D7EeJ",
        "outputId": "654199f6-081c-443e-ba9d-fcd038db9416"
      },
      "execution_count": null,
      "outputs": [
        {
          "output_type": "execute_result",
          "data": {
            "text/plain": [
              "Adam (\n",
              "Parameter Group 0\n",
              "    amsgrad: False\n",
              "    betas: (0.9, 0.999)\n",
              "    capturable: False\n",
              "    differentiable: False\n",
              "    eps: 1e-08\n",
              "    foreach: None\n",
              "    fused: None\n",
              "    lr: 0.01\n",
              "    maximize: False\n",
              "    weight_decay: 0\n",
              ")"
            ]
          },
          "metadata": {},
          "execution_count": 18
        }
      ]
    },
    {
      "cell_type": "markdown",
      "source": [
        "# Training the Network\n",
        "This function will allow you to train your model, by appropriately handling the backward propogations along with the optimizer.\n",
        "<br>The function is typically written to take in the dataset, model, loss function and optimizer.\n",
        "\n",
        "PyTorch trains in batches, so the `batch_id` will keep track of which batch of data you are working on.\n",
        "\n",
        "**Keep in mind the number of batches is how many were set in the data loader in the previous section**"
      ],
      "metadata": {
        "id": "1hlGQFG38fed"
      }
    },
    {
      "cell_type": "code",
      "source": [
        "def train(loaders, model, loss_func, optimizer):\n",
        "  model.train()\n",
        "  size = len(loaders['train'])\n",
        "  for batch_id, (X,y) in enumerate(loaders['train']):\n",
        "\n",
        "    predicted_output = model(X)\n",
        "    actual_output = y\n",
        "    # print(predicted_output, actual_output)\n",
        "    loss = loss_func(predicted_output, actual_output)\n",
        "    optimizer.zero_grad()\n",
        "    loss.backward()\n",
        "    optimizer.step()\n",
        "\n",
        "    if (batch_id+1) % 100 == 0:\n",
        "      loss, current = loss.item(),batch_id\n",
        "      print(f\"Loss: {loss:>7f} \\n Batch: [{current+1:>5d}/{size:>5d}]\")"
      ],
      "metadata": {
        "id": "mxao7zju8he6"
      },
      "execution_count": null,
      "outputs": []
    },
    {
      "cell_type": "markdown",
      "source": [
        "`model.train()` sets the model into 'training' mode. It is a mode that when enabled, PyTorch will perform training specific functions such as Dropout layers.\n",
        "<br>\n",
        "Running `model(X)` will run the input through the model and return a prediction.\n",
        "<br> Running the chosen loss function will return the loss\n",
        "<br> `optimizer.zero_grad()` will reset the gradients of the optimizer to zero for every batch\n",
        "<br> `loss.backward` is where the back propogation happens. It keeps a history of the order of the layers and how the data propogated through, thus automatically able to calculate the gradient for every parameter in the network\n",
        "<br> `optimizer.step()` will update the parameters based on the gradients calculated previously.\n",
        "\n",
        "#### Calling the `train` function\n",
        "With the `train` function defined, you can call it for how many ever epochs are required.\n"
      ],
      "metadata": {
        "id": "ZLX2g1vb8Piu"
      }
    },
    {
      "cell_type": "code",
      "source": [
        "num_epochs = 2\n",
        "for epoch in range(num_epochs):\n",
        "  print(f\"Epoch {epoch+1}\\n-------------------------------\")\n",
        "  train(loaders, mnist_cnn, loss_func, optimizer)"
      ],
      "metadata": {
        "colab": {
          "base_uri": "https://localhost:8080/"
        },
        "id": "YYmUfOwrCJMw",
        "outputId": "1d4721ca-5834-4dce-a0c1-e9f709134aad"
      },
      "execution_count": null,
      "outputs": [
        {
          "output_type": "stream",
          "name": "stdout",
          "text": [
            "Epoch 1\n",
            "-------------------------------\n"
          ]
        },
        {
          "output_type": "stream",
          "name": "stderr",
          "text": [
            "/usr/local/lib/python3.10/dist-packages/torch/nn/modules/module.py:1518: UserWarning: Implicit dimension choice for log_softmax has been deprecated. Change the call to include dim=X as an argument.\n",
            "  return self._call_impl(*args, **kwargs)\n"
          ]
        },
        {
          "output_type": "stream",
          "name": "stdout",
          "text": [
            "Loss: 0.080926 \n",
            " Batch: [  100/  600]\n",
            "Loss: 0.147103 \n",
            " Batch: [  200/  600]\n",
            "Loss: 0.166250 \n",
            " Batch: [  300/  600]\n",
            "Loss: 0.066866 \n",
            " Batch: [  400/  600]\n",
            "Loss: 0.150916 \n",
            " Batch: [  500/  600]\n",
            "Loss: 0.192583 \n",
            " Batch: [  600/  600]\n",
            "Epoch 2\n",
            "-------------------------------\n",
            "Loss: 0.064810 \n",
            " Batch: [  100/  600]\n",
            "Loss: 0.296456 \n",
            " Batch: [  200/  600]\n",
            "Loss: 0.032475 \n",
            " Batch: [  300/  600]\n",
            "Loss: 0.236016 \n",
            " Batch: [  400/  600]\n",
            "Loss: 0.029657 \n",
            " Batch: [  500/  600]\n",
            "Loss: 0.051961 \n",
            " Batch: [  600/  600]\n"
          ]
        }
      ]
    },
    {
      "cell_type": "markdown",
      "source": [
        "# Testing the Network\n",
        "Similar to how you defined and ran the `train` function, you can define and run a `test` function.\n",
        "\n",
        "This function is typically written to calculate the Accuracy along with the Loss.\n",
        "\n",
        "To calculate the accuracy, you will have to compare the actual labels of your prediction and target itself.\n",
        "\n",
        "Since the final layer was a Softmax activation, the output will be 10 class probabilities, with the highest probability being the predicted output.\n",
        "\n",
        "You can extract this value with the `argmax()` function.\n",
        "\n",
        "Keep in mind you will have to convert it to the appropriate datatypes\n",
        "\n",
        "`model.eval()` sets the model into Evaluation/Inference mode, it is the opposite of `model.train()`."
      ],
      "metadata": {
        "id": "kSpuVsWgCGEV"
      }
    },
    {
      "cell_type": "code",
      "source": [
        "def test(loaders, model, loss_func, optimizer):\n",
        "  size = len(loaders['test'])*100\n",
        "  test_loss, correct = 0,0\n",
        "  model.eval()\n",
        "  with torch.no_grad():\n",
        "    for batch_id,(X, y) in enumerate(loaders['test']):\n",
        "      predicted_output = model(X)\n",
        "      actual_output = y\n",
        "      test_loss = loss_func(predicted_output, actual_output)\n",
        "      correct += (predicted_output.argmax(1) == y).type(torch.float).sum().item()\n",
        "\n",
        "  test_loss /= size\n",
        "  correct /= size\n",
        "  print(f\"Test Error: \\n Accuracy: {(100*correct):>0.1f}\")"
      ],
      "metadata": {
        "id": "y1VIjxolCIFq"
      },
      "execution_count": null,
      "outputs": []
    },
    {
      "cell_type": "code",
      "source": [
        "test(loaders, mnist_cnn, loss_func, optimizer)"
      ],
      "metadata": {
        "colab": {
          "base_uri": "https://localhost:8080/"
        },
        "id": "cqOXzYRVNBUt",
        "outputId": "1870b7fe-da8a-42c4-9edd-2746b1f9026c"
      },
      "execution_count": null,
      "outputs": [
        {
          "output_type": "stream",
          "name": "stdout",
          "text": [
            "Test Error: \n",
            " Accuracy: 97.4\n"
          ]
        }
      ]
    },
    {
      "cell_type": "markdown",
      "source": [
        "# Check your understanding"
      ],
      "metadata": {
        "id": "1lmXt7ZgSHzX"
      }
    },
    {
      "cell_type": "markdown",
      "source": [
        "## Do it yourself - Network Data Flow\n",
        "- Modify the appropriate network function, to view the structure of the data as it flows\n",
        "through the network.\n",
        "  - print to the console the shape of the different stages of your data as it flows through the network\n",
        "- You can use the `.size()` command to view the shape of the tensors\n",
        "\n",
        "ANS - modify the forward function with print statements to view the"
      ],
      "metadata": {
        "id": "yKIYo3edAMh5"
      }
    },
    {
      "cell_type": "code",
      "source": [
        "from torch import nn\n",
        "import torch.nn.functional as F\n",
        "\n",
        "class mnist_cnn_modified(nn.Module):\n",
        "  def __init__(self):\n",
        "    super(mnist_cnn_modified, self).__init__()\n",
        "    self.conv1 = nn.Sequential(\n",
        "        nn.Conv2d(in_channels = 1,\n",
        "                  out_channels = 10,\n",
        "                  kernel_size = 5,\n",
        "                  stride = 1,\n",
        "                  padding = 0),\n",
        "        nn.ReLU(),\n",
        "        nn.MaxPool2d(kernel_size = 2)\n",
        "        )\n",
        "\n",
        "    self.conv2 = nn.Sequential(\n",
        "        nn.Conv2d(10,20,5,1,0),\n",
        "        nn.ReLU(),\n",
        "        nn.MaxPool2d(2)\n",
        "        )\n",
        "\n",
        "    self.fc1 = nn.Linear(20*4*4, 64)\n",
        "    self.fc2 = nn.Linear(64,10)\n",
        "    self.softmax = nn.LogSoftmax()\n",
        "\n",
        "  def forward(self, x):\n",
        "    in_size = x.size(0)\n",
        "    x = self.conv1(x)\n",
        "    x = self.conv2(x)\n",
        "    x = x.view(in_size, -1)   # flatten the tensor\n",
        "    x = self.fc1(x)\n",
        "    x = self.fc2(x)\n",
        "    print(\"FC2\\n\", x.size())\n",
        "    x = self.softmax(x)\n",
        "    return x"
      ],
      "metadata": {
        "id": "5J7vHcB9TJnK"
      },
      "execution_count": null,
      "outputs": []
    },
    {
      "cell_type": "markdown",
      "source": [
        "Initialise the new modified model"
      ],
      "metadata": {
        "id": "-b_8X-NAXK8x"
      }
    },
    {
      "cell_type": "code",
      "source": [
        "mnist_fcnn_modified = mnist_cnn_modified()"
      ],
      "metadata": {
        "id": "7BI1WyfPUqTi"
      },
      "execution_count": null,
      "outputs": []
    },
    {
      "cell_type": "markdown",
      "source": [
        "iterate over one sample"
      ],
      "metadata": {
        "id": "SdQc_cxlXNyg"
      }
    },
    {
      "cell_type": "code",
      "source": [
        "#ITERATING OVER JUST ONE SAMPLE\n",
        "cnt = 0\n",
        "for batch, (X,y) in enumerate(loaders['train']):\n",
        "  if cnt == 0:\n",
        "    predicted = mnist_fcnn_modified.forward(X)\n",
        "  else:\n",
        "    break\n",
        "  cnt += 1\n"
      ],
      "metadata": {
        "colab": {
          "base_uri": "https://localhost:8080/"
        },
        "id": "d1g5XmCbUuRE",
        "outputId": "aab05c72-0c78-4aff-9e99-bdc3b2231161"
      },
      "execution_count": null,
      "outputs": [
        {
          "output_type": "stream",
          "name": "stdout",
          "text": [
            "Initial Size\n",
            " torch.Size([100, 1, 28, 28])\n",
            "Conv1 Output\n",
            " torch.Size([100, 10, 12, 12])\n",
            "Conv2 Output\n",
            " torch.Size([100, 20, 4, 4])\n",
            "After flattening\n",
            " torch.Size([100, 320])\n",
            "FC1\n",
            " torch.Size([100, 64])\n",
            "FC2\n",
            " torch.Size([100, 10])\n"
          ]
        },
        {
          "output_type": "stream",
          "name": "stderr",
          "text": [
            "/usr/local/lib/python3.10/dist-packages/torch/nn/modules/module.py:1518: UserWarning: Implicit dimension choice for log_softmax has been deprecated. Change the call to include dim=X as an argument.\n",
            "  return self._call_impl(*args, **kwargs)\n"
          ]
        }
      ]
    },
    {
      "cell_type": "markdown",
      "source": [
        "## Question - Understand how `argmax()` work?\n",
        "- `argmax()` returns the index of the element that has the highest value in the tensor, that is present along the provided dimension.\n",
        "- the `dim` argument allows us to determine along which dimension we want to check for the maximum.\n",
        "  - 1 - along each row (horizontal)\n",
        "  - 0 - along each columns (vertical)\n",
        "- run the `.argmax()` function over the following tensor and observe the results"
      ],
      "metadata": {
        "id": "I66uwx8G4eD7"
      }
    },
    {
      "cell_type": "code",
      "source": [
        "tensor_a = torch.rand(3,4)\n",
        "print(\"Tensor A-\", tensor_a)\n",
        "\n",
        "print(\"Along Dimension 0 (Columns) - \",tensor_a.argmax(dim=0))\n",
        "print(\"Along Dimension 1 (Rows) - \",tensor_a.argmax(dim=1))"
      ],
      "metadata": {
        "colab": {
          "base_uri": "https://localhost:8080/"
        },
        "id": "1AX4ofUGO-Lf",
        "outputId": "4f0c9064-0e63-49de-8ef8-835969dc0779"
      },
      "execution_count": null,
      "outputs": [
        {
          "output_type": "stream",
          "name": "stdout",
          "text": [
            "Tensor A- tensor([[0.2532, 0.7431, 0.3321, 0.4115],\n",
            "        [0.3471, 0.1290, 0.4871, 0.8097],\n",
            "        [0.5899, 0.7265, 0.2053, 0.8281]])\n",
            "Along Dimension 0 (Columns) -  tensor([2, 0, 1, 2])\n",
            "Along Dimension 1 (Rows) -  tensor([1, 3, 3])\n"
          ]
        }
      ]
    },
    {
      "cell_type": "markdown",
      "source": [
        "Clearly you can observe `dim=0` return a tensor of shape 1x4, indicating that it has returned the indices of the highest value within each of the columns, and `dim=1` returns a tensor of shape 1x3, indicating that it has returned the indices of the highest value within each of the rows"
      ],
      "metadata": {
        "id": "ZkAv82j3P19S"
      }
    },
    {
      "cell_type": "markdown",
      "source": [
        "### Q) Based on the dimensions of the data for the MNIST example, which you have just printed in the previous section, why has `dim=1` been chosen for the argmax function during testing?\n",
        "ANS-\n",
        "- each batch is read with 100 samples\n",
        "- so its 100 rows of 10 values(softmax output) each. [100x10]\n",
        "- dim = 1 returns the index of the max value along the rows\n",
        "- therefore it returns an array of size [1x100], with the class of the highest probability each of the 100 samples  "
      ],
      "metadata": {
        "id": "-chNU7mLQYef"
      }
    }
  ]
}