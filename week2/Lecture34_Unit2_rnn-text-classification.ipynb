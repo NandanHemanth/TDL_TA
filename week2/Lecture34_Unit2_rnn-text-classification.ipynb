{
 "cells": [
  {
   "cell_type": "markdown",
   "metadata": {
    "papermill": {
     "duration": 0.032326,
     "end_time": "2020-11-17T09:51:58.688610",
     "exception": false,
     "start_time": "2020-11-17T09:51:58.656284",
     "status": "completed"
    },
    "tags": []
   },
   "source": [
    "# Text Classification with an RNN in \n",
    "\n",
    "1. Setup of Libraries.\n",
    "2. Download/ Access Raw Data.\n",
    "3. Create a Text Encoder. This step allows to convert sentences of words into vector representations using tokenization. Some text-preprocessing is required in this step also.\n",
    "4. Optimize the text dataset. Some cool features from TF re used to improve memory and optimization.\n",
    "5. Create the Model. Some times this step will be directly from the TF 2.0 API, or simply using a Sequential model from Keras. A key aspect is necesary to notice. SInce we are working with vector representations of words, it is necesary to build embeddings. Embeeddings are tipically dense encodings of words. Ideally, similar words have similar encodings. \n",
    "6. Compile the model. Depending on the task, this step might get more complicated. For now, I will only use standard compilation parameters.\n",
    "7. Train the model. \n",
    "8. Some kind of inference about predicted data or model structure.\n",
    "\n",
    "___\n",
    "\n",
    "\n",
    "In this particular Notebook, the task at hand would be a simple Binary Classification problem using the imdb reviews dataset. The objective is to predict if the review was good or not."
   ]
  },
  {
   "cell_type": "markdown",
   "metadata": {
    "papermill": {
     "duration": 0.03066,
     "end_time": "2020-11-17T09:51:58.751316",
     "exception": false,
     "start_time": "2020-11-17T09:51:58.720656",
     "status": "completed"
    },
    "tags": []
   },
   "source": [
    "## Setup"
   ]
  },
  {
   "cell_type": "markdown",
   "metadata": {
    "papermill": {
     "duration": 0.031841,
     "end_time": "2020-11-17T09:51:58.814432",
     "exception": false,
     "start_time": "2020-11-17T09:51:58.782591",
     "status": "completed"
    },
    "tags": []
   },
   "source": [
    "### Libraries"
   ]
  },
  {
   "cell_type": "code",
   "execution_count": 21,
   "metadata": {
    "execution": {
     "iopub.execute_input": "2020-11-17T09:51:58.884859Z",
     "iopub.status.busy": "2020-11-17T09:51:58.883910Z",
     "iopub.status.idle": "2020-11-17T09:52:09.199255Z",
     "shell.execute_reply": "2020-11-17T09:52:09.198129Z"
    },
    "papermill": {
     "duration": 10.353497,
     "end_time": "2020-11-17T09:52:09.199423",
     "exception": false,
     "start_time": "2020-11-17T09:51:58.845926",
     "status": "completed"
    },
    "tags": []
   },
   "outputs": [
    {
     "name": "stdout",
     "output_type": "stream",
     "text": [
      "Requirement already satisfied: tensorflow in d:\\guild\\tdl_ta\\.conda\\lib\\site-packages (2.15.0)\n",
      "Requirement already satisfied: tensorflow-intel==2.15.0 in d:\\guild\\tdl_ta\\.conda\\lib\\site-packages (from tensorflow) (2.15.0)\n",
      "Requirement already satisfied: absl-py>=1.0.0 in d:\\guild\\tdl_ta\\.conda\\lib\\site-packages (from tensorflow-intel==2.15.0->tensorflow) (1.4.0)\n",
      "Requirement already satisfied: astunparse>=1.6.0 in d:\\guild\\tdl_ta\\.conda\\lib\\site-packages (from tensorflow-intel==2.15.0->tensorflow) (1.6.3)\n",
      "Requirement already satisfied: flatbuffers>=23.5.26 in d:\\guild\\tdl_ta\\.conda\\lib\\site-packages (from tensorflow-intel==2.15.0->tensorflow) (23.5.26)\n",
      "Requirement already satisfied: gast!=0.5.0,!=0.5.1,!=0.5.2,>=0.2.1 in d:\\guild\\tdl_ta\\.conda\\lib\\site-packages (from tensorflow-intel==2.15.0->tensorflow) (0.5.4)\n",
      "Requirement already satisfied: google-pasta>=0.1.1 in d:\\guild\\tdl_ta\\.conda\\lib\\site-packages (from tensorflow-intel==2.15.0->tensorflow) (0.2.0)\n",
      "Requirement already satisfied: h5py>=2.9.0 in d:\\guild\\tdl_ta\\.conda\\lib\\site-packages (from tensorflow-intel==2.15.0->tensorflow) (3.10.0)\n",
      "Requirement already satisfied: libclang>=13.0.0 in d:\\guild\\tdl_ta\\.conda\\lib\\site-packages (from tensorflow-intel==2.15.0->tensorflow) (16.0.6)\n",
      "Requirement already satisfied: ml-dtypes~=0.2.0 in d:\\guild\\tdl_ta\\.conda\\lib\\site-packages (from tensorflow-intel==2.15.0->tensorflow) (0.2.0)\n",
      "Requirement already satisfied: numpy<2.0.0,>=1.23.5 in d:\\guild\\tdl_ta\\.conda\\lib\\site-packages (from tensorflow-intel==2.15.0->tensorflow) (1.26.3)\n",
      "Requirement already satisfied: opt-einsum>=2.3.2 in d:\\guild\\tdl_ta\\.conda\\lib\\site-packages (from tensorflow-intel==2.15.0->tensorflow) (3.3.0)\n",
      "Requirement already satisfied: packaging in d:\\guild\\tdl_ta\\.conda\\lib\\site-packages (from tensorflow-intel==2.15.0->tensorflow) (23.2)\n",
      "Requirement already satisfied: protobuf!=4.21.0,!=4.21.1,!=4.21.2,!=4.21.3,!=4.21.4,!=4.21.5,<5.0.0dev,>=3.20.3 in d:\\guild\\tdl_ta\\.conda\\lib\\site-packages (from tensorflow-intel==2.15.0->tensorflow) (3.20.3)\n",
      "Requirement already satisfied: setuptools in d:\\guild\\tdl_ta\\.conda\\lib\\site-packages (from tensorflow-intel==2.15.0->tensorflow) (68.2.2)\n",
      "Requirement already satisfied: six>=1.12.0 in d:\\guild\\tdl_ta\\.conda\\lib\\site-packages (from tensorflow-intel==2.15.0->tensorflow) (1.16.0)\n",
      "Requirement already satisfied: termcolor>=1.1.0 in d:\\guild\\tdl_ta\\.conda\\lib\\site-packages (from tensorflow-intel==2.15.0->tensorflow) (2.4.0)\n",
      "Requirement already satisfied: typing-extensions>=3.6.6 in d:\\guild\\tdl_ta\\.conda\\lib\\site-packages (from tensorflow-intel==2.15.0->tensorflow) (4.9.0)\n",
      "Requirement already satisfied: wrapt<1.15,>=1.11.0 in d:\\guild\\tdl_ta\\.conda\\lib\\site-packages (from tensorflow-intel==2.15.0->tensorflow) (1.14.1)\n",
      "Requirement already satisfied: tensorflow-io-gcs-filesystem>=0.23.1 in d:\\guild\\tdl_ta\\.conda\\lib\\site-packages (from tensorflow-intel==2.15.0->tensorflow) (0.31.0)\n",
      "Requirement already satisfied: grpcio<2.0,>=1.24.3 in d:\\guild\\tdl_ta\\.conda\\lib\\site-packages (from tensorflow-intel==2.15.0->tensorflow) (1.60.1)\n",
      "Requirement already satisfied: tensorboard<2.16,>=2.15 in d:\\guild\\tdl_ta\\.conda\\lib\\site-packages (from tensorflow-intel==2.15.0->tensorflow) (2.15.2)\n",
      "Requirement already satisfied: tensorflow-estimator<2.16,>=2.15.0 in d:\\guild\\tdl_ta\\.conda\\lib\\site-packages (from tensorflow-intel==2.15.0->tensorflow) (2.15.0)\n",
      "Requirement already satisfied: keras<2.16,>=2.15.0 in d:\\guild\\tdl_ta\\.conda\\lib\\site-packages (from tensorflow-intel==2.15.0->tensorflow) (2.15.0)\n",
      "Requirement already satisfied: wheel<1.0,>=0.23.0 in d:\\guild\\tdl_ta\\.conda\\lib\\site-packages (from astunparse>=1.6.0->tensorflow-intel==2.15.0->tensorflow) (0.41.2)\n",
      "Requirement already satisfied: google-auth<3,>=1.6.3 in d:\\guild\\tdl_ta\\.conda\\lib\\site-packages (from tensorboard<2.16,>=2.15->tensorflow-intel==2.15.0->tensorflow) (2.28.0)\n",
      "Requirement already satisfied: google-auth-oauthlib<2,>=0.5 in d:\\guild\\tdl_ta\\.conda\\lib\\site-packages (from tensorboard<2.16,>=2.15->tensorflow-intel==2.15.0->tensorflow) (1.2.0)\n",
      "Requirement already satisfied: markdown>=2.6.8 in d:\\guild\\tdl_ta\\.conda\\lib\\site-packages (from tensorboard<2.16,>=2.15->tensorflow-intel==2.15.0->tensorflow) (3.5.2)\n",
      "Requirement already satisfied: requests<3,>=2.21.0 in d:\\guild\\tdl_ta\\.conda\\lib\\site-packages (from tensorboard<2.16,>=2.15->tensorflow-intel==2.15.0->tensorflow) (2.28.1)\n",
      "Requirement already satisfied: tensorboard-data-server<0.8.0,>=0.7.0 in d:\\guild\\tdl_ta\\.conda\\lib\\site-packages (from tensorboard<2.16,>=2.15->tensorflow-intel==2.15.0->tensorflow) (0.7.2)\n",
      "Requirement already satisfied: werkzeug>=1.0.1 in d:\\guild\\tdl_ta\\.conda\\lib\\site-packages (from tensorboard<2.16,>=2.15->tensorflow-intel==2.15.0->tensorflow) (3.0.1)\n",
      "Requirement already satisfied: cachetools<6.0,>=2.0.0 in d:\\guild\\tdl_ta\\.conda\\lib\\site-packages (from google-auth<3,>=1.6.3->tensorboard<2.16,>=2.15->tensorflow-intel==2.15.0->tensorflow) (5.3.2)\n",
      "Requirement already satisfied: pyasn1-modules>=0.2.1 in d:\\guild\\tdl_ta\\.conda\\lib\\site-packages (from google-auth<3,>=1.6.3->tensorboard<2.16,>=2.15->tensorflow-intel==2.15.0->tensorflow) (0.3.0)\n",
      "Requirement already satisfied: rsa<5,>=3.1.4 in d:\\guild\\tdl_ta\\.conda\\lib\\site-packages (from google-auth<3,>=1.6.3->tensorboard<2.16,>=2.15->tensorflow-intel==2.15.0->tensorflow) (4.9)\n",
      "Requirement already satisfied: requests-oauthlib>=0.7.0 in d:\\guild\\tdl_ta\\.conda\\lib\\site-packages (from google-auth-oauthlib<2,>=0.5->tensorboard<2.16,>=2.15->tensorflow-intel==2.15.0->tensorflow) (1.3.1)\n",
      "Requirement already satisfied: charset-normalizer<3,>=2 in d:\\guild\\tdl_ta\\.conda\\lib\\site-packages (from requests<3,>=2.21.0->tensorboard<2.16,>=2.15->tensorflow-intel==2.15.0->tensorflow) (2.1.1)\n",
      "Requirement already satisfied: idna<4,>=2.5 in d:\\guild\\tdl_ta\\.conda\\lib\\site-packages (from requests<3,>=2.21.0->tensorboard<2.16,>=2.15->tensorflow-intel==2.15.0->tensorflow) (3.4)\n",
      "Requirement already satisfied: urllib3<1.27,>=1.21.1 in d:\\guild\\tdl_ta\\.conda\\lib\\site-packages (from requests<3,>=2.21.0->tensorboard<2.16,>=2.15->tensorflow-intel==2.15.0->tensorflow) (1.26.13)\n",
      "Requirement already satisfied: certifi>=2017.4.17 in d:\\guild\\tdl_ta\\.conda\\lib\\site-packages (from requests<3,>=2.21.0->tensorboard<2.16,>=2.15->tensorflow-intel==2.15.0->tensorflow) (2022.12.7)\n",
      "Requirement already satisfied: MarkupSafe>=2.1.1 in d:\\guild\\tdl_ta\\.conda\\lib\\site-packages (from werkzeug>=1.0.1->tensorboard<2.16,>=2.15->tensorflow-intel==2.15.0->tensorflow) (2.1.3)\n",
      "Requirement already satisfied: pyasn1<0.6.0,>=0.4.6 in d:\\guild\\tdl_ta\\.conda\\lib\\site-packages (from pyasn1-modules>=0.2.1->google-auth<3,>=1.6.3->tensorboard<2.16,>=2.15->tensorflow-intel==2.15.0->tensorflow) (0.5.1)\n",
      "Requirement already satisfied: oauthlib>=3.0.0 in d:\\guild\\tdl_ta\\.conda\\lib\\site-packages (from requests-oauthlib>=0.7.0->google-auth-oauthlib<2,>=0.5->tensorboard<2.16,>=2.15->tensorflow-intel==2.15.0->tensorflow) (3.2.2)\n"
     ]
    }
   ],
   "source": [
    "! pip install -q tensorflow_datasets\n",
    "! pip install tensorflow"
   ]
  },
  {
   "cell_type": "code",
   "execution_count": 22,
   "metadata": {
    "_cell_guid": "b1076dfc-b9ad-4769-8c92-a6c4dae69d19",
    "_uuid": "8f2839f25d086af736a60e9eeb907d3b93b6e0e5",
    "execution": {
     "iopub.execute_input": "2020-11-17T09:52:09.296424Z",
     "iopub.status.busy": "2020-11-17T09:52:09.295011Z",
     "iopub.status.idle": "2020-11-17T09:52:16.625068Z",
     "shell.execute_reply": "2020-11-17T09:52:16.624078Z"
    },
    "papermill": {
     "duration": 7.380852,
     "end_time": "2020-11-17T09:52:16.625212",
     "exception": false,
     "start_time": "2020-11-17T09:52:09.244360",
     "status": "completed"
    },
    "tags": []
   },
   "outputs": [],
   "source": [
    "import numpy as np\n",
    "\n",
    "import tensorflow_datasets as tfds\n",
    "import tensorflow as tf\n",
    "\n",
    "tfds.disable_progress_bar()\n",
    "\n",
    "import matplotlib.pyplot as plt"
   ]
  },
  {
   "cell_type": "code",
   "execution_count": 23,
   "metadata": {
    "_cell_guid": "79c7e3d0-c299-4dcb-8224-4455121ee9b0",
    "_uuid": "d629ff2d2480ee46fbb7e2d37f6b5fab8052498a",
    "execution": {
     "iopub.execute_input": "2020-11-17T09:52:16.696385Z",
     "iopub.status.busy": "2020-11-17T09:52:16.695458Z",
     "iopub.status.idle": "2020-11-17T09:52:16.699961Z",
     "shell.execute_reply": "2020-11-17T09:52:16.699374Z"
    },
    "papermill": {
     "duration": 0.042967,
     "end_time": "2020-11-17T09:52:16.700074",
     "exception": false,
     "start_time": "2020-11-17T09:52:16.657107",
     "status": "completed"
    },
    "tags": []
   },
   "outputs": [],
   "source": [
    "def plot_graphs(history, metric):\n",
    "    plt.plot(history.history[metric])\n",
    "    plt.plot(history.history['val_'+metric], '')\n",
    "    plt.xlabel(\"Epochs\")\n",
    "    plt.ylabel(metric)\n",
    "    plt.legend([metric, 'val_'+metric])"
   ]
  },
  {
   "cell_type": "markdown",
   "metadata": {
    "papermill": {
     "duration": 0.031429,
     "end_time": "2020-11-17T09:52:16.763432",
     "exception": false,
     "start_time": "2020-11-17T09:52:16.732003",
     "status": "completed"
    },
    "tags": []
   },
   "source": [
    "### Download Data"
   ]
  },
  {
   "cell_type": "code",
   "execution_count": 24,
   "metadata": {
    "execution": {
     "iopub.execute_input": "2020-11-17T09:52:16.834705Z",
     "iopub.status.busy": "2020-11-17T09:52:16.833828Z",
     "iopub.status.idle": "2020-11-17T09:53:33.185491Z",
     "shell.execute_reply": "2020-11-17T09:53:33.186085Z"
    },
    "papermill": {
     "duration": 76.390739,
     "end_time": "2020-11-17T09:53:33.186259",
     "exception": false,
     "start_time": "2020-11-17T09:52:16.795520",
     "status": "completed"
    },
    "tags": []
   },
   "outputs": [
    {
     "data": {
      "text/plain": [
       "(TensorSpec(shape=(), dtype=tf.string, name=None),\n",
       " TensorSpec(shape=(), dtype=tf.int64, name=None))"
      ]
     },
     "execution_count": 24,
     "metadata": {},
     "output_type": "execute_result"
    }
   ],
   "source": [
    "dataset, info = tfds.load('imdb_reviews', with_info=True,\n",
    "                          as_supervised=True)\n",
    "train_dataset, test_dataset = dataset['train'], dataset['test']\n",
    "\n",
    "train_dataset.element_spec"
   ]
  },
  {
   "cell_type": "markdown",
   "metadata": {
    "papermill": {
     "duration": 0.034293,
     "end_time": "2020-11-17T09:53:33.255252",
     "exception": false,
     "start_time": "2020-11-17T09:53:33.220959",
     "status": "completed"
    },
    "tags": []
   },
   "source": [
    "An example of the data available"
   ]
  },
  {
   "cell_type": "code",
   "execution_count": 25,
   "metadata": {
    "execution": {
     "iopub.execute_input": "2020-11-17T09:53:33.331595Z",
     "iopub.status.busy": "2020-11-17T09:53:33.330865Z",
     "iopub.status.idle": "2020-11-17T09:53:33.470021Z",
     "shell.execute_reply": "2020-11-17T09:53:33.469265Z"
    },
    "papermill": {
     "duration": 0.179964,
     "end_time": "2020-11-17T09:53:33.470167",
     "exception": false,
     "start_time": "2020-11-17T09:53:33.290203",
     "status": "completed"
    },
    "tags": []
   },
   "outputs": [
    {
     "name": "stdout",
     "output_type": "stream",
     "text": [
      "Text: b\"This was an absolutely terrible movie. Don't be lured in by Christopher Walken or Michael Ironside. Both are great actors, but this must simply be their worst role in history. Even their great acting could not redeem this movie's ridiculous storyline. This movie is an early nineties US propaganda piece. The most pathetic scenes were those when the Columbian rebels were making their cases for revolutions. Maria Conchita Alonso appeared phony, and her pseudo-love affair with Walken was nothing but a pathetic emotional plug in a movie that was devoid of any real meaning. I am disappointed that there are movies like this, ruining actor's like Christopher Walken's good name. I could barely sit through it.\" \n",
      "\n",
      "Label: 0 \n",
      "\n",
      "---\n"
     ]
    }
   ],
   "source": [
    "for example, label in train_dataset.take(1):\n",
    "    print(f'Text: {example.numpy()} \\n')\n",
    "    print(f'Label: {label.numpy()} \\n')\n",
    "    print(\"---\")"
   ]
  },
  {
   "cell_type": "markdown",
   "metadata": {
    "papermill": {
     "duration": 0.034978,
     "end_time": "2020-11-17T09:53:33.541163",
     "exception": false,
     "start_time": "2020-11-17T09:53:33.506185",
     "status": "completed"
    },
    "tags": []
   },
   "source": [
    "### Dataset"
   ]
  },
  {
   "cell_type": "code",
   "execution_count": 26,
   "metadata": {
    "execution": {
     "iopub.execute_input": "2020-11-17T09:53:33.618364Z",
     "iopub.status.busy": "2020-11-17T09:53:33.617596Z",
     "iopub.status.idle": "2020-11-17T09:53:33.624682Z",
     "shell.execute_reply": "2020-11-17T09:53:33.624063Z"
    },
    "papermill": {
     "duration": 0.048673,
     "end_time": "2020-11-17T09:53:33.624807",
     "exception": false,
     "start_time": "2020-11-17T09:53:33.576134",
     "status": "completed"
    },
    "tags": []
   },
   "outputs": [],
   "source": [
    "BUFFER_SIZE = 10000\n",
    "BATCH_SIZE = 64\n",
    "\n",
    "train_dataset = train_dataset.shuffle(BUFFER_SIZE).batch(BATCH_SIZE).prefetch(tf.data.experimental.AUTOTUNE)\n",
    "test_dataset = test_dataset.shuffle(BUFFER_SIZE).batch(BATCH_SIZE).prefetch(tf.data.experimental.AUTOTUNE)"
   ]
  },
  {
   "cell_type": "markdown",
   "metadata": {
    "papermill": {
     "duration": 0.034456,
     "end_time": "2020-11-17T09:53:33.694346",
     "exception": false,
     "start_time": "2020-11-17T09:53:33.659890",
     "status": "completed"
    },
    "tags": []
   },
   "source": [
    "An example of the dataset. It is clear that the data is vectorized now."
   ]
  },
  {
   "cell_type": "code",
   "execution_count": 27,
   "metadata": {
    "execution": {
     "iopub.execute_input": "2020-11-17T09:53:33.771291Z",
     "iopub.status.busy": "2020-11-17T09:53:33.770263Z",
     "iopub.status.idle": "2020-11-17T09:53:34.419132Z",
     "shell.execute_reply": "2020-11-17T09:53:34.420559Z"
    },
    "papermill": {
     "duration": 0.691368,
     "end_time": "2020-11-17T09:53:34.420784",
     "exception": false,
     "start_time": "2020-11-17T09:53:33.729416",
     "status": "completed"
    },
    "tags": []
   },
   "outputs": [
    {
     "name": "stdout",
     "output_type": "stream",
     "text": [
      "Texts : [b'I recently saw this film and enjoyed it very much. it gives a insight to indie movie making and how much work is really involved when you have a low budget yet need a name actor/actress to get people, any people to come see it and give the movie exposure. Bobby Myeres played by Modine and his partner Saul - Paul Linder make an excellent combination finding eccentric Miachel Bates, a \"NAME\" actor played by Alan Bates was a perfect casting decision in the movie and for the movie. My favorite cast member was Sandy Ryan played by the magnificent and underrated Debra Kara Unger with her own special performance again in the movie within the movie. If you enjoy thinking when watching a comedy then this one is for you. Low budget meets lower budget with High laugh content.'\n",
      " b\"The sexploitation movie era of the late sixties and early seventies began with the allowance of gratuitous nudity in mainstream films and ended with the legalization of hardcore porn. It's peak years were between 1968 and 1972. One of the most loved and talented actresses of the era was Monica Gayle, who had a small but fanatic cult of followers. She was actually able to act, unlike many who filled the lead roles of these flicks, and her subsequent credits proved it. And her seemingly deliberate fade into obscurity right when her career was taking off only heightens her mystique.<br /><br />Gary Graver, the director, was also a talent; probably too talented for the sexploitation genre, and his skill, combined with Monica Gayle's screen presence, makes Sandra, the Making of a Woman, a pleasantly enjoyable experience. The film never drags and you won't have your finger pressed on the fast-forward button.\"\n",
      " b\"I swear I could watch this movie every weekend of my life and never get sick of it! Every aspect of human emotion is captured so magically by the acting, the script, the direction, and the general feeling of this movie. It's been a long time since I saw a movie that actually made me choke from laughter, reflect from sadness, and feel each intended feeling that comes through in this most excellent work! We need MORE MOVIES like this!!! Mike Binder: are you listening???\"] \n",
      "\n",
      "Labels: [1 1 1] \n",
      "\n",
      "----\n"
     ]
    }
   ],
   "source": [
    "for example, label in train_dataset.take(1):\n",
    "    print(f\"Texts : {example.numpy()[:3]} \\n\")\n",
    "    print(f\"Labels: {label.numpy()[:3]} \\n\")\n",
    "    print(\"----\")"
   ]
  },
  {
   "cell_type": "markdown",
   "metadata": {
    "papermill": {
     "duration": 0.035474,
     "end_time": "2020-11-17T09:53:34.492187",
     "exception": false,
     "start_time": "2020-11-17T09:53:34.456713",
     "status": "completed"
    },
    "tags": []
   },
   "source": [
    "## Text Encoder\n",
    "\n",
    "Here we process raw train data into tokens."
   ]
  },
  {
   "cell_type": "code",
   "execution_count": 28,
   "metadata": {
    "execution": {
     "iopub.execute_input": "2020-11-17T09:53:34.570345Z",
     "iopub.status.busy": "2020-11-17T09:53:34.569583Z",
     "iopub.status.idle": "2020-11-17T09:53:42.078102Z",
     "shell.execute_reply": "2020-11-17T09:53:42.076956Z"
    },
    "papermill": {
     "duration": 7.55015,
     "end_time": "2020-11-17T09:53:42.078256",
     "exception": false,
     "start_time": "2020-11-17T09:53:34.528106",
     "status": "completed"
    },
    "tags": []
   },
   "outputs": [],
   "source": [
    "VOCAB_SIZE = 1000\n",
    "encoder = tf.keras.layers.experimental.preprocessing.TextVectorization(max_tokens=VOCAB_SIZE)\n",
    "encoder.adapt(train_dataset.map(lambda text, label: text))\n",
    "\n",
    "vocab = np.array(encoder.get_vocabulary())"
   ]
  },
  {
   "cell_type": "markdown",
   "metadata": {
    "papermill": {
     "duration": 0.035768,
     "end_time": "2020-11-17T09:53:42.150295",
     "exception": false,
     "start_time": "2020-11-17T09:53:42.114527",
     "status": "completed"
    },
    "tags": []
   },
   "source": [
    "Example of the first 20 words in the vocabulary."
   ]
  },
  {
   "cell_type": "code",
   "execution_count": 29,
   "metadata": {
    "execution": {
     "iopub.execute_input": "2020-11-17T09:53:42.231837Z",
     "iopub.status.busy": "2020-11-17T09:53:42.230271Z",
     "iopub.status.idle": "2020-11-17T09:53:42.234492Z",
     "shell.execute_reply": "2020-11-17T09:53:42.235065Z"
    },
    "papermill": {
     "duration": 0.047998,
     "end_time": "2020-11-17T09:53:42.235202",
     "exception": false,
     "start_time": "2020-11-17T09:53:42.187204",
     "status": "completed"
    },
    "tags": []
   },
   "outputs": [
    {
     "data": {
      "text/plain": [
       "array(['', '[UNK]', 'the', 'and', 'a', 'of', 'to', 'is', 'in', 'it', 'i',\n",
       "       'this', 'that', 'br', 'was', 'as', 'for', 'with', 'movie', 'but'],\n",
       "      dtype='<U14')"
      ]
     },
     "execution_count": 29,
     "metadata": {},
     "output_type": "execute_result"
    }
   ],
   "source": [
    "vocab[:20]"
   ]
  },
  {
   "cell_type": "markdown",
   "metadata": {
    "papermill": {
     "duration": 0.036116,
     "end_time": "2020-11-17T09:53:42.307960",
     "exception": false,
     "start_time": "2020-11-17T09:53:42.271844",
     "status": "completed"
    },
    "tags": []
   },
   "source": [
    "Notice that sentences have variable lengths. The TextVectorizers produces a 0 padding up to the maximum lngth available in the dataset."
   ]
  },
  {
   "cell_type": "code",
   "execution_count": 30,
   "metadata": {
    "execution": {
     "iopub.execute_input": "2020-11-17T09:53:42.387074Z",
     "iopub.status.busy": "2020-11-17T09:53:42.386099Z",
     "iopub.status.idle": "2020-11-17T09:53:42.430153Z",
     "shell.execute_reply": "2020-11-17T09:53:42.429068Z"
    },
    "papermill": {
     "duration": 0.085657,
     "end_time": "2020-11-17T09:53:42.430279",
     "exception": false,
     "start_time": "2020-11-17T09:53:42.344622",
     "status": "completed"
    },
    "tags": []
   },
   "outputs": [
    {
     "data": {
      "text/plain": [
       "array([[ 10,   1, 208, ...,   0,   0,   0],\n",
       "       [  2,   1,  18, ...,   0,   0,   0],\n",
       "       [ 10,   1,  10, ...,   0,   0,   0]], dtype=int64)"
      ]
     },
     "execution_count": 30,
     "metadata": {},
     "output_type": "execute_result"
    }
   ],
   "source": [
    "encoded_example = encoder(example)[:3].numpy()\n",
    "encoded_example"
   ]
  },
  {
   "cell_type": "markdown",
   "metadata": {
    "papermill": {
     "duration": 0.037038,
     "end_time": "2020-11-17T09:53:42.505037",
     "exception": false,
     "start_time": "2020-11-17T09:53:42.467999",
     "status": "completed"
    },
    "tags": []
   },
   "source": [
    "An important thing to notice is that the vectorization is non biyective, since upper cases and punctuationss are removed. Additionally, the size of the vocabulary is small and hence some workds will be tokenized das Unknown by the TextVectorizer."
   ]
  },
  {
   "cell_type": "code",
   "execution_count": 31,
   "metadata": {
    "execution": {
     "iopub.execute_input": "2020-11-17T09:53:42.586631Z",
     "iopub.status.busy": "2020-11-17T09:53:42.585827Z",
     "iopub.status.idle": "2020-11-17T09:53:42.601939Z",
     "shell.execute_reply": "2020-11-17T09:53:42.602714Z"
    },
    "papermill": {
     "duration": 0.060291,
     "end_time": "2020-11-17T09:53:42.602884",
     "exception": false,
     "start_time": "2020-11-17T09:53:42.542593",
     "status": "completed"
    },
    "tags": []
   },
   "outputs": [
    {
     "name": "stdout",
     "output_type": "stream",
     "text": [
      "Original:  b'I recently saw this film and enjoyed it very much. it gives a insight to indie movie making and how much work is really involved when you have a low budget yet need a name actor/actress to get people, any people to come see it and give the movie exposure. Bobby Myeres played by Modine and his partner Saul - Paul Linder make an excellent combination finding eccentric Miachel Bates, a \"NAME\" actor played by Alan Bates was a perfect casting decision in the movie and for the movie. My favorite cast member was Sandy Ryan played by the magnificent and underrated Debra Kara Unger with her own special performance again in the movie within the movie. If you enjoy thinking when watching a comedy then this one is for you. Low budget meets lower budget with High laugh content.'\n",
      "Round-trip:  i [UNK] saw this film and enjoyed it very much it gives a [UNK] to [UNK] movie making and how much work is really involved when you have a low budget yet need a name [UNK] to get people any people to come see it and give the movie [UNK] [UNK] [UNK] played by [UNK] and his [UNK] [UNK] paul [UNK] make an excellent [UNK] [UNK] [UNK] [UNK] [UNK] a name actor played by [UNK] [UNK] was a perfect casting [UNK] in the movie and for the movie my favorite cast [UNK] was [UNK] [UNK] played by the [UNK] and [UNK] [UNK] [UNK] [UNK] with her own special performance again in the movie within the movie if you enjoy thinking when watching a comedy then this one is for you low budget meets [UNK] budget with high laugh [UNK]                                                                                                                                                                                                                                                                                                                                                                                                                                                                                                                                                                                                                                                                                                                                                                                                                                                                                             \n",
      "\n",
      "Original:  b\"The sexploitation movie era of the late sixties and early seventies began with the allowance of gratuitous nudity in mainstream films and ended with the legalization of hardcore porn. It's peak years were between 1968 and 1972. One of the most loved and talented actresses of the era was Monica Gayle, who had a small but fanatic cult of followers. She was actually able to act, unlike many who filled the lead roles of these flicks, and her subsequent credits proved it. And her seemingly deliberate fade into obscurity right when her career was taking off only heightens her mystique.<br /><br />Gary Graver, the director, was also a talent; probably too talented for the sexploitation genre, and his skill, combined with Monica Gayle's screen presence, makes Sandra, the Making of a Woman, a pleasantly enjoyable experience. The film never drags and you won't have your finger pressed on the fast-forward button.\"\n",
      "Round-trip:  the [UNK] movie [UNK] of the late [UNK] and early [UNK] [UNK] with the [UNK] of [UNK] [UNK] in [UNK] films and [UNK] with the [UNK] of [UNK] [UNK] its [UNK] years were between [UNK] and [UNK] one of the most loved and [UNK] [UNK] of the [UNK] was [UNK] [UNK] who had a small but [UNK] [UNK] of [UNK] she was actually able to act unlike many who [UNK] the lead roles of these [UNK] and her [UNK] credits [UNK] it and her [UNK] [UNK] [UNK] into [UNK] right when her career was taking off only [UNK] her [UNK] br [UNK] [UNK] the director was also a talent probably too [UNK] for the [UNK] genre and his [UNK] [UNK] with [UNK] [UNK] screen [UNK] makes [UNK] the making of a woman a [UNK] enjoyable experience the film never [UNK] and you wont have your [UNK] [UNK] on the [UNK] [UNK]                                                                                                                                                                                                                                                                                                                                                                                                                                                                                                                                                                                                                                                                                                                                                                                                                                                                                 \n",
      "\n",
      "Original:  b\"I swear I could watch this movie every weekend of my life and never get sick of it! Every aspect of human emotion is captured so magically by the acting, the script, the direction, and the general feeling of this movie. It's been a long time since I saw a movie that actually made me choke from laughter, reflect from sadness, and feel each intended feeling that comes through in this most excellent work! We need MORE MOVIES like this!!! Mike Binder: are you listening???\"\n",
      "Round-trip:  i [UNK] i could watch this movie every [UNK] of my life and never get [UNK] of it every [UNK] of human [UNK] is [UNK] so [UNK] by the acting the script the direction and the general feeling of this movie its been a long time since i saw a movie that actually made me [UNK] from [UNK] [UNK] from [UNK] and feel each [UNK] feeling that comes through in this most excellent work we need more movies like this [UNK] [UNK] are you [UNK]                                                                                                                                                                                                                                                                                                                                                                                                                                                                                                                                                                                                                                                                                                                                                                                                                                                                                                                                                   \n",
      "\n"
     ]
    }
   ],
   "source": [
    "for n in range(3):\n",
    "  print(\"Original: \", example[n].numpy())\n",
    "  print(\"Round-trip: \", \" \".join(vocab[encoded_example[n]]))\n",
    "  print()"
   ]
  },
  {
   "cell_type": "markdown",
   "metadata": {
    "papermill": {
     "duration": 0.052873,
     "end_time": "2020-11-17T09:53:42.695324",
     "exception": false,
     "start_time": "2020-11-17T09:53:42.642451",
     "status": "completed"
    },
    "tags": []
   },
   "source": [
    "## Create a Model\n",
    "\n",
    "We use a very simple model. The model is composed by five Layers in a Sequential flow. \n",
    "\n",
    "\n",
    "\n",
    "![](https://www.tensorflow.org/tutorials/text/images/bidirectional.png)\n",
    "\n",
    "\n",
    "\n",
    "The TextVectorization and Embedding Layers have been explained. In the Bidirectional Layer, we use an RNN. This allows the input to be propagated in both forward and backward directions, generating two outputs that are concatenated at the end, and sent as input for a Dense layer and a final Classifier."
   ]
  },
  {
   "cell_type": "code",
   "execution_count": 32,
   "metadata": {
    "execution": {
     "iopub.execute_input": "2020-11-17T09:53:42.779817Z",
     "iopub.status.busy": "2020-11-17T09:53:42.779076Z",
     "iopub.status.idle": "2020-11-17T09:53:42.825276Z",
     "shell.execute_reply": "2020-11-17T09:53:42.824490Z"
    },
    "papermill": {
     "duration": 0.091648,
     "end_time": "2020-11-17T09:53:42.825402",
     "exception": false,
     "start_time": "2020-11-17T09:53:42.733754",
     "status": "completed"
    },
    "tags": []
   },
   "outputs": [],
   "source": [
    "model = tf.keras.Sequential([\n",
    "    encoder,\n",
    "    tf.keras.layers.Embedding(\n",
    "        input_dim=len(encoder.get_vocabulary()),\n",
    "        output_dim=64,\n",
    "        # Use masking to handle the variable sequence lengths\n",
    "        mask_zero=True),\n",
    "    tf.keras.layers.Bidirectional(tf.keras.layers.LSTM(64)),\n",
    "    tf.keras.layers.Dense(64, activation='relu'),\n",
    "    tf.keras.layers.Dense(1)\n",
    "])"
   ]
  },
  {
   "cell_type": "markdown",
   "metadata": {
    "papermill": {
     "duration": 0.038243,
     "end_time": "2020-11-17T09:53:42.902535",
     "exception": false,
     "start_time": "2020-11-17T09:53:42.864292",
     "status": "completed"
    },
    "tags": []
   },
   "source": [
    "## Compile the Model\n",
    "\n",
    "We compile the model. We use the Binary Crossentropy Loss since we are dealing with Binary Classification. We also use the Adam optmizer. We use a smaller learning rate."
   ]
  },
  {
   "cell_type": "code",
   "execution_count": 33,
   "metadata": {
    "execution": {
     "iopub.execute_input": "2020-11-17T09:53:42.993088Z",
     "iopub.status.busy": "2020-11-17T09:53:42.992363Z",
     "iopub.status.idle": "2020-11-17T09:53:43.003631Z",
     "shell.execute_reply": "2020-11-17T09:53:43.002318Z"
    },
    "papermill": {
     "duration": 0.062799,
     "end_time": "2020-11-17T09:53:43.003760",
     "exception": false,
     "start_time": "2020-11-17T09:53:42.940961",
     "status": "completed"
    },
    "tags": []
   },
   "outputs": [],
   "source": [
    "model.compile(loss=tf.keras.losses.BinaryCrossentropy(from_logits=True),\n",
    "              optimizer=tf.keras.optimizers.Adam(1e-4),\n",
    "              metrics=['accuracy'])"
   ]
  },
  {
   "cell_type": "markdown",
   "metadata": {
    "papermill": {
     "duration": 0.03832,
     "end_time": "2020-11-17T09:53:43.081299",
     "exception": false,
     "start_time": "2020-11-17T09:53:43.042979",
     "status": "completed"
    },
    "tags": []
   },
   "source": [
    "## Train the Model"
   ]
  },
  {
   "cell_type": "code",
   "execution_count": 34,
   "metadata": {
    "execution": {
     "iopub.execute_input": "2020-11-17T09:53:43.165074Z",
     "iopub.status.busy": "2020-11-17T09:53:43.164013Z",
     "iopub.status.idle": "2020-11-17T10:00:03.253288Z",
     "shell.execute_reply": "2020-11-17T10:00:03.253887Z"
    },
    "papermill": {
     "duration": 380.134214,
     "end_time": "2020-11-17T10:00:03.254072",
     "exception": false,
     "start_time": "2020-11-17T09:53:43.119858",
     "status": "completed"
    },
    "tags": []
   },
   "outputs": [
    {
     "name": "stdout",
     "output_type": "stream",
     "text": [
      "Epoch 1/2\n",
      "391/391 [==============================] - 572s 1s/step - loss: 0.6476 - accuracy: 0.5588 - val_loss: 0.5749 - val_accuracy: 0.7568\n",
      "Epoch 2/2\n",
      "391/391 [==============================] - 559s 1s/step - loss: 0.4012 - accuracy: 0.8145 - val_loss: 0.3381 - val_accuracy: 0.8307\n"
     ]
    }
   ],
   "source": [
    "history = model.fit(train_dataset, epochs=2,\n",
    "                    validation_data=test_dataset, \n",
    "                    validation_steps=30)"
   ]
  },
  {
   "cell_type": "code",
   "execution_count": 35,
   "metadata": {
    "execution": {
     "iopub.execute_input": "2020-11-17T10:00:06.810205Z",
     "iopub.status.busy": "2020-11-17T10:00:06.809315Z",
     "iopub.status.idle": "2020-11-17T10:00:07.076402Z",
     "shell.execute_reply": "2020-11-17T10:00:07.075315Z"
    },
    "papermill": {
     "duration": 2.204907,
     "end_time": "2020-11-17T10:00:07.076530",
     "exception": false,
     "start_time": "2020-11-17T10:00:04.871623",
     "status": "completed"
    },
    "tags": []
   },
   "outputs": [
    {
     "data": {
      "image/png": "[encoded data removed]",
      "text/plain": [
       "<Figure size 640x480 with 1 Axes>"
      ]
     },
     "metadata": {},
     "output_type": "display_data"
    }
   ],
   "source": [
    "plot_graphs(history, \"accuracy\")"
   ]
  },
  {
   "cell_type": "markdown",
   "metadata": {
    "papermill": {
     "duration": 1.70212,
     "end_time": "2020-11-17T10:00:10.405748",
     "exception": false,
     "start_time": "2020-11-17T10:00:08.703628",
     "status": "completed"
    },
    "tags": []
   },
   "source": [
    "We achieve reazonable high validation accuracy, considering the vocabulary size and the number of epochs."
   ]
  },
  {
   "cell_type": "markdown",
   "metadata": {
    "papermill": {
     "duration": 1.615542,
     "end_time": "2020-11-17T10:00:14.055965",
     "exception": false,
     "start_time": "2020-11-17T10:00:12.440423",
     "status": "completed"
    },
    "tags": []
   },
   "source": [
    "## Run a Simple Prediction\n",
    "\n",
    "We run the model on a simple sentence. The output is a logit probability, and so we threshold in 0.0 for positive or negative review."
   ]
  },
  {
   "cell_type": "code",
   "execution_count": 36,
   "metadata": {
    "execution": {
     "iopub.execute_input": "2020-11-17T10:00:17.551888Z",
     "iopub.status.busy": "2020-11-17T10:00:17.550642Z",
     "iopub.status.idle": "2020-11-17T10:00:20.057296Z",
     "shell.execute_reply": "2020-11-17T10:00:20.056109Z"
    },
    "papermill": {
     "duration": 4.392682,
     "end_time": "2020-11-17T10:00:20.057437",
     "exception": false,
     "start_time": "2020-11-17T10:00:15.664755",
     "status": "completed"
    },
    "tags": []
   },
   "outputs": [
    {
     "name": "stdout",
     "output_type": "stream",
     "text": [
      "1/1 [==============================] - 2s 2s/step\n"
     ]
    },
    {
     "data": {
      "text/plain": [
       "array([[0.46794352]], dtype=float32)"
      ]
     },
     "execution_count": 36,
     "metadata": {},
     "output_type": "execute_result"
    }
   ],
   "source": [
    "sample_text = ('The movie was cool. The animation and the graphics '\n",
    "               'were out of this world. I would recommend this movie.')\n",
    "predictions = model.predict(np.array([sample_text]))\n",
    "predictions"
   ]
  },
  {
   "cell_type": "markdown",
   "metadata": {
    "papermill": {
     "duration": 1.694669,
     "end_time": "2020-11-17T10:00:23.692097",
     "exception": false,
     "start_time": "2020-11-17T10:00:21.997428",
     "status": "completed"
    },
    "tags": []
   },
   "source": [
    "The prediction is that the review is positive, which seems true. Nonetheless, the probability is very near the threshold. This might indicate that the model can be improved."
   ]
  },
  {
   "cell_type": "markdown",
   "metadata": {
    "papermill": {
     "duration": 1.908495,
     "end_time": "2020-11-17T10:00:27.238002",
     "exception": false,
     "start_time": "2020-11-17T10:00:25.329507",
     "status": "completed"
    },
    "tags": []
   },
   "source": [
    "## Stacking two or more LSTM\n",
    "\n",
    "\n",
    "Recurrent Layers have the option to return sequences. This means that the output for each neuron is returned, and not just the last one (a 2D tensor of shape (batch_size, output_feature)).\n",
    "\n",
    "If we return the sequences, we obtain a 3D tensor of shape (batch_size, time_steps, output_features). This can be given as input for consective RNNs, since it has 3 axes as the input."
   ]
  },
  {
   "cell_type": "code",
   "execution_count": 37,
   "metadata": {
    "execution": {
     "iopub.execute_input": "2020-11-17T10:00:30.923318Z",
     "iopub.status.busy": "2020-11-17T10:00:30.922346Z",
     "iopub.status.idle": "2020-11-17T10:00:30.974803Z",
     "shell.execute_reply": "2020-11-17T10:00:30.974065Z"
    },
    "papermill": {
     "duration": 1.781623,
     "end_time": "2020-11-17T10:00:30.974936",
     "exception": false,
     "start_time": "2020-11-17T10:00:29.193313",
     "status": "completed"
    },
    "tags": []
   },
   "outputs": [],
   "source": [
    "model = tf.keras.Sequential([\n",
    "    encoder,\n",
    "    tf.keras.layers.Embedding(len(encoder.get_vocabulary()), 64, mask_zero=True),\n",
    "    tf.keras.layers.Bidirectional(tf.keras.layers.LSTM(64,  return_sequences=True)),\n",
    "    tf.keras.layers.Bidirectional(tf.keras.layers.LSTM(32)),\n",
    "    tf.keras.layers.Dense(64, activation='relu'),\n",
    "    tf.keras.layers.Dropout(0.5),\n",
    "    tf.keras.layers.Dense(1)\n",
    "])"
   ]
  },
  {
   "cell_type": "markdown",
   "metadata": {
    "papermill": {
     "duration": 1.597508,
     "end_time": "2020-11-17T10:00:34.274934",
     "exception": false,
     "start_time": "2020-11-17T10:00:32.677426",
     "status": "completed"
    },
    "tags": []
   },
   "source": [
    "The rest of the training configuration is the same."
   ]
  },
  {
   "cell_type": "code",
   "execution_count": 38,
   "metadata": {
    "execution": {
     "iopub.execute_input": "2020-11-17T10:00:37.495583Z",
     "iopub.status.busy": "2020-11-17T10:00:37.494433Z",
     "iopub.status.idle": "2020-11-17T10:00:37.500959Z",
     "shell.execute_reply": "2020-11-17T10:00:37.501669Z"
    },
    "papermill": {
     "duration": 1.626136,
     "end_time": "2020-11-17T10:00:37.501837",
     "exception": false,
     "start_time": "2020-11-17T10:00:35.875701",
     "status": "completed"
    },
    "tags": []
   },
   "outputs": [],
   "source": [
    "model.compile(loss=tf.keras.losses.BinaryCrossentropy(from_logits=True),\n",
    "              optimizer=tf.keras.optimizers.Adam(1e-4),\n",
    "              metrics=['accuracy'])"
   ]
  },
  {
   "cell_type": "markdown",
   "metadata": {
    "papermill": {
     "duration": 1.643126,
     "end_time": "2020-11-17T10:00:41.006051",
     "exception": false,
     "start_time": "2020-11-17T10:00:39.362925",
     "status": "completed"
    },
    "tags": []
   },
   "source": [
    "We now train the model with the same configuration as before."
   ]
  },
  {
   "cell_type": "code",
   "execution_count": 39,
   "metadata": {
    "execution": {
     "iopub.execute_input": "2020-11-17T10:00:44.676005Z",
     "iopub.status.busy": "2020-11-17T10:00:44.673405Z",
     "iopub.status.idle": "2020-11-17T10:11:48.876579Z",
     "shell.execute_reply": "2020-11-17T10:11:48.875494Z"
    },
    "papermill": {
     "duration": 665.996365,
     "end_time": "2020-11-17T10:11:48.876720",
     "exception": false,
     "start_time": "2020-11-17T10:00:42.880355",
     "status": "completed"
    },
    "tags": []
   },
   "outputs": [
    {
     "name": "stdout",
     "output_type": "stream",
     "text": [
      "391/391 [==============================] - 833s 2s/step - loss: 0.6265 - accuracy: 0.5770 - val_loss: 0.4957 - val_accuracy: 0.7812\n"
     ]
    }
   ],
   "source": [
    "history = model.fit(train_dataset, epochs=1,\n",
    "                    validation_data=test_dataset,\n",
    "                    validation_steps=30)"
   ]
  },
  {
   "cell_type": "markdown",
   "metadata": {
    "papermill": {
     "duration": 3.172475,
     "end_time": "2020-11-17T10:11:55.482520",
     "exception": false,
     "start_time": "2020-11-17T10:11:52.310045",
     "status": "completed"
    },
    "tags": []
   },
   "source": [
    "We now plot the train and validation results. "
   ]
  },
  {
   "cell_type": "code",
   "execution_count": 40,
   "metadata": {
    "execution": {
     "iopub.execute_input": "2020-11-17T10:12:02.527058Z",
     "iopub.status.busy": "2020-11-17T10:12:02.525900Z",
     "iopub.status.idle": "2020-11-17T10:12:02.717985Z",
     "shell.execute_reply": "2020-11-17T10:12:02.718645Z"
    },
    "papermill": {
     "duration": 3.627785,
     "end_time": "2020-11-17T10:12:02.718815",
     "exception": false,
     "start_time": "2020-11-17T10:11:59.091030",
     "status": "completed"
    },
    "tags": []
   },
   "outputs": [
    {
     "data": {
      "image/png": "[encoded data removed]",
      "text/plain": [
       "<Figure size 640x480 with 1 Axes>"
      ]
     },
     "metadata": {},
     "output_type": "display_data"
    }
   ],
   "source": [
    "plot_graphs(history, \"accuracy\")"
   ]
  },
  {
   "cell_type": "markdown",
   "metadata": {
    "papermill": {
     "duration": 3.216574,
     "end_time": "2020-11-17T10:12:09.151885",
     "exception": false,
     "start_time": "2020-11-17T10:12:05.935311",
     "status": "completed"
    },
    "tags": []
   },
   "source": [
    "### Evaluation"
   ]
  },
  {
   "cell_type": "markdown",
   "metadata": {
    "papermill": {
     "duration": 3.144909,
     "end_time": "2020-11-17T10:12:15.736682",
     "exception": false,
     "start_time": "2020-11-17T10:12:12.591773",
     "status": "completed"
    },
    "tags": []
   },
   "source": [
    "We evaluate the model on the test set to obtain the best loss and accuracy values."
   ]
  },
  {
   "cell_type": "code",
   "execution_count": 41,
   "metadata": {
    "execution": {
     "iopub.execute_input": "2020-11-17T10:12:22.508503Z",
     "iopub.status.busy": "2020-11-17T10:12:22.507449Z",
     "iopub.status.idle": "2020-11-17T10:12:50.005878Z",
     "shell.execute_reply": "2020-11-17T10:12:50.005230Z"
    },
    "papermill": {
     "duration": 31.060563,
     "end_time": "2020-11-17T10:12:50.006011",
     "exception": false,
     "start_time": "2020-11-17T10:12:18.945448",
     "status": "completed"
    },
    "tags": []
   },
   "outputs": [
    {
     "name": "stdout",
     "output_type": "stream",
     "text": [
      "391/391 [==============================] - 118s 303ms/step - loss: 0.4867 - accuracy: 0.7888\n",
      "Test Loss: 0.48673340678215027\n",
      "Test Accuracy: 0.7888000011444092\n"
     ]
    }
   ],
   "source": [
    "test_loss, test_acc = model.evaluate(test_dataset)\n",
    "\n",
    "print('Test Loss: {}'.format(test_loss))\n",
    "print('Test Accuracy: {}'.format(test_acc))"
   ]
  },
  {
   "cell_type": "markdown",
   "metadata": {
    "papermill": {
     "duration": 3.650947,
     "end_time": "2020-11-17T10:12:57.066133",
     "exception": false,
     "start_time": "2020-11-17T10:12:53.415186",
     "status": "completed"
    },
    "tags": []
   },
   "source": [
    "Finally, we make a prediction on a simple sentence:"
   ]
  },
  {
   "cell_type": "code",
   "execution_count": 42,
   "metadata": {
    "execution": {
     "iopub.execute_input": "2020-11-17T10:13:04.196533Z",
     "iopub.status.busy": "2020-11-17T10:13:04.195517Z",
     "iopub.status.idle": "2020-11-17T10:13:09.235985Z",
     "shell.execute_reply": "2020-11-17T10:13:09.236602Z"
    },
    "papermill": {
     "duration": 8.722877,
     "end_time": "2020-11-17T10:13:09.236768",
     "exception": false,
     "start_time": "2020-11-17T10:13:00.513891",
     "status": "completed"
    },
    "tags": []
   },
   "outputs": [
    {
     "name": "stdout",
     "output_type": "stream",
     "text": [
      "1/1 [==============================] - 4s 4s/step\n",
      "[[-0.5556397]]\n"
     ]
    }
   ],
   "source": [
    "sample_text = ('The movie was not good. The animation and the graphics '\n",
    "                    'were terrible. I would not recommend this movie.')\n",
    "predictions = model.predict(np.array([sample_text]))\n",
    "print(predictions)"
   ]
  },
  {
   "cell_type": "code",
   "execution_count": 43,
   "metadata": {
    "execution": {
     "iopub.execute_input": "2020-11-17T10:13:15.864352Z",
     "iopub.status.busy": "2020-11-17T10:13:15.863283Z",
     "iopub.status.idle": "2020-11-17T10:13:15.913982Z",
     "shell.execute_reply": "2020-11-17T10:13:15.913374Z"
    },
    "papermill": {
     "duration": 3.365644,
     "end_time": "2020-11-17T10:13:15.914107",
     "exception": false,
     "start_time": "2020-11-17T10:13:12.548463",
     "status": "completed"
    },
    "tags": []
   },
   "outputs": [
    {
     "name": "stdout",
     "output_type": "stream",
     "text": [
      "1/1 [==============================] - 0s 26ms/step\n"
     ]
    },
    {
     "data": {
      "text/plain": [
       "array([[0.21777005]], dtype=float32)"
      ]
     },
     "execution_count": 43,
     "metadata": {},
     "output_type": "execute_result"
    }
   ],
   "source": [
    "sample_text = ('The movie was cool. The animation and the graphics '\n",
    "               'were out of this world. I would recommend this movie.')\n",
    "predictions = model.predict(np.array([sample_text]))\n",
    "predictions"
   ]
  },
  {
   "cell_type": "markdown",
   "metadata": {
    "papermill": {
     "duration": 3.806598,
     "end_time": "2020-11-17T10:13:23.356787",
     "exception": false,
     "start_time": "2020-11-17T10:13:19.550189",
     "status": "completed"
    },
    "tags": []
   },
   "source": [
    "The model acctually did not improve much the performance. One "
   ]
  },
  {
   "cell_type": "code",
   "execution_count": null,
   "metadata": {
    "papermill": {
     "duration": 3.766024,
     "end_time": "2020-11-17T10:13:30.730749",
     "exception": false,
     "start_time": "2020-11-17T10:13:26.964725",
     "status": "completed"
    },
    "tags": []
   },
   "outputs": [],
   "source": []
  }
 ],
 "metadata": {
  "kernelspec": {
   "display_name": "Python 3 (ipykernel)",
   "language": "python",
   "name": "python3"
  },
  "language_info": {
   "codemirror_mode": {
    "name": "ipython",
    "version": 3
   },
   "file_extension": ".py",
   "mimetype": "text/x-python",
   "name": "python",
   "nbconvert_exporter": "python",
   "pygments_lexer": "ipython3",
   "version": "3.10.13"
  },
  "papermill": {
   "duration": 1302.175756,
   "end_time": "2020-11-17T10:13:35.978323",
   "environment_variables": {},
   "exception": null,
   "input_path": "__notebook__.ipynb",
   "output_path": "__notebook__.ipynb",
   "parameters": {},
   "start_time": "2020-11-17T09:51:53.802567",
   "version": "2.1.0"
  }
 },
 "nbformat": 4,
 "nbformat_minor": 4
}
